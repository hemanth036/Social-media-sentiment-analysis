{
  "nbformat": 4,
  "nbformat_minor": 0,
  "metadata": {
    "colab": {
      "provenance": [],
      "collapsed_sections": []
    },
    "kernelspec": {
      "name": "python3",
      "display_name": "Python 3"
    },
    "language_info": {
      "name": "python"
    }
  },
  "cells": [
    {
      "cell_type": "code",
      "execution_count": 56,
      "metadata": {
        "id": "E9ukcakh9buN"
      },
      "outputs": [],
      "source": [
        "import numpy as np\n",
        "import matplotlib.pyplot as plt\n",
        "import seaborn as sns\n",
        "import pandas as pd \n",
        "import json \n",
        "import random"
      ]
    },
    {
      "cell_type": "code",
      "source": [
        "class Sentiment:\n",
        "    negative=\"NEGATIVE\"\n",
        "    positive=\"POSITIVE\"\n",
        "    \n",
        "class Review:\n",
        "    def __init__(self,text,score):\n",
        "        self.text=text\n",
        "        self.score=score\n",
        "        self.sentiment=self.get_sentiment()\n",
        "    def get_sentiment(self):\n",
        "        if self.score<3:\n",
        "            return Sentiment.negative\n",
        "        else:#when score is 3 or 4 or 5\n",
        "            return Sentiment.positive\n",
        "\n",
        "class ReviewContainer:\n",
        "        def __init__(self,reviews):\n",
        "            self.reviews=reviews\n",
        "        def evenly_distribute(self):\n",
        "            negative=list(filter(lambda x:x.sentiment==Sentiment.negative,self.reviews))\n",
        "            positive=list(filter(lambda x:x.sentiment==Sentiment.positive,self.reviews))\n",
        "            #as data contains more positive data sets,we can reduce it for negative for more better accuracy.\n",
        "            postive_shrunk=positive[:len(negative)]\n",
        "            self.reviews=negative+postive_shrunk\n",
        "            random.shuffle(self.reviews)"
      ],
      "metadata": {
        "id": "akLgjrG19kNX"
      },
      "execution_count": 57,
      "outputs": []
    },
    {
      "cell_type": "code",
      "source": [
        "reviews=[]\n",
        "with open(\"Books_small_10000.json\") as f:\n",
        "   for line in f:\n",
        "        review_json=json.loads(line)\n",
        "        review=Review(review_json['reviewText'], review_json['overall'])\n",
        "        reviews.append(review)"
      ],
      "metadata": {
        "id": "7n2lv2BU-2eE"
      },
      "execution_count": 58,
      "outputs": []
    },
    {
      "cell_type": "code",
      "source": [
        "reviews[7].text\n",
        "reviews[7].score\n",
        "reviews[7].sentiment"
      ],
      "metadata": {
        "colab": {
          "base_uri": "https://localhost:8080/",
          "height": 36
        },
        "id": "2jMJjO4WAVVF",
        "outputId": "f525da2f-2095-4112-8c29-5f0389ebb657"
      },
      "execution_count": 59,
      "outputs": [
        {
          "output_type": "execute_result",
          "data": {
            "text/plain": [
              "'POSITIVE'"
            ],
            "application/vnd.google.colaboratory.intrinsic+json": {
              "type": "string"
            }
          },
          "metadata": {},
          "execution_count": 59
        }
      ]
    },
    {
      "cell_type": "code",
      "source": [
        "from sklearn.model_selection import train_test_split\n",
        "training,testing=train_test_split(reviews,test_size=0.33)"
      ],
      "metadata": {
        "id": "pcD6Uva3A7Uj"
      },
      "execution_count": 13,
      "outputs": []
    },
    {
      "cell_type": "code",
      "source": [
        "len(training)\n",
        "len(testing)"
      ],
      "metadata": {
        "colab": {
          "base_uri": "https://localhost:8080/"
        },
        "id": "dhsv-YmEB5FE",
        "outputId": "68c7f44f-713d-4856-d353-09072d7cbc26"
      },
      "execution_count": 60,
      "outputs": [
        {
          "output_type": "execute_result",
          "data": {
            "text/plain": [
              "3300"
            ]
          },
          "metadata": {},
          "execution_count": 60
        }
      ]
    },
    {
      "cell_type": "code",
      "source": [
        "#evenly distributing data to get better accuracy\n",
        "traincontainer=ReviewContainer(training)\n",
        "traincontainer.evenly_distribute()\n",
        "testcontainer=ReviewContainer(testing)\n",
        "testcontainer.evenly_distribute()\n",
        "\n"
      ],
      "metadata": {
        "id": "rj7sUlTJHKjU"
      },
      "execution_count": 61,
      "outputs": []
    },
    {
      "cell_type": "code",
      "source": [
        "#data split\n",
        "x_train=[x.text for x in traincontainer.reviews]\n",
        "x_test=[x.text for x in testcontainer.reviews]\n",
        "y_train=[y.sentiment for y in traincontainer.reviews]\n",
        "y_test=[y.sentiment for y in testcontainer.reviews]"
      ],
      "metadata": {
        "id": "e-9FIhFCVC8t"
      },
      "execution_count": 66,
      "outputs": []
    },
    {
      "cell_type": "code",
      "source": [
        "y_train.count(Sentiment.positive)\n",
        "y_train.count(Sentiment.negative)"
      ],
      "metadata": {
        "colab": {
          "base_uri": "https://localhost:8080/"
        },
        "id": "aPtg1LdkWrSF",
        "outputId": "caf3c8b6-2af4-487c-c52b-a46bcf8946c7"
      },
      "execution_count": 67,
      "outputs": [
        {
          "output_type": "execute_result",
          "data": {
            "text/plain": [
              "434"
            ]
          },
          "metadata": {},
          "execution_count": 67
        }
      ]
    },
    {
      "cell_type": "code",
      "source": [
        "from sklearn.feature_extraction.text import TfidfVectorizer\n",
        "vectorizer=TfidfVectorizer()\n",
        "x_train_vector=vectorizer.fit_transform(x_train)\n",
        "x_test_vector=vectorizer.transform(x_test)"
      ],
      "metadata": {
        "id": "tYJDjhN7XLcW"
      },
      "execution_count": 68,
      "outputs": []
    },
    {
      "cell_type": "code",
      "source": [
        "from sklearn.svm import SVC\n",
        "clf_svm=SVC()\n",
        "clf_svm.fit(x_train_vector,y_train)\n",
        "y_pred=clf_svm.predict(x_test_vector)\n",
        "\n",
        "from sklearn.metrics import accuracy_score,f1_score\n",
        "clf_svm_score=accuracy_score(y_test,y_pred)\n",
        "print(accuracy_score(y_test,y_pred))\n",
        "print(f1_score(y_test,y_pred,average=None,labels=[Sentiment.positive,Sentiment.negative]))\n",
        "\n"
      ],
      "metadata": {
        "colab": {
          "base_uri": "https://localhost:8080/"
        },
        "id": "i4zFLT_9YJHd",
        "outputId": "99fd4575-75f0-4e60-fa27-263a70ab1389"
      },
      "execution_count": 70,
      "outputs": [
        {
          "output_type": "stream",
          "name": "stdout",
          "text": [
            "0.8261904761904761\n",
            "[0.81975309 0.83218391]\n"
          ]
        }
      ]
    },
    {
      "cell_type": "code",
      "source": [
        "from sklearn.tree import DecisionTreeClassifier\n",
        "clf_dec=DecisionTreeClassifier()\n",
        "clf_dec.fit(x_train_vector,y_train)\n",
        "y_pred=clf_dec.predict(x_test_vector)\n",
        "\n",
        "from sklearn.metrics import accuracy_score,f1_score\n",
        "clf_dec_score=accuracy_score(y_test,y_pred)\n",
        "print(accuracy_score(y_test,y_pred))\n",
        "print(f1_score(y_test,y_pred,average=None,labels=[Sentiment.positive,Sentiment.negative]))\n"
      ],
      "metadata": {
        "colab": {
          "base_uri": "https://localhost:8080/"
        },
        "id": "VqplJimYgZ2d",
        "outputId": "793fa24a-7ced-4268-8ba4-48d6f557b941"
      },
      "execution_count": 71,
      "outputs": [
        {
          "output_type": "stream",
          "name": "stdout",
          "text": [
            "0.6547619047619048\n",
            "[0.67268623 0.63476071]\n"
          ]
        }
      ]
    },
    {
      "cell_type": "code",
      "source": [
        "from sklearn.linear_model import LogisticRegression\n",
        "clf_log=LogisticRegression()\n",
        "clf_log.fit(x_train_vector,y_train)\n",
        "y_pred=clf_log.predict(x_test_vector)\n",
        "\n",
        "from sklearn.metrics import accuracy_score,f1_score\n",
        "clf_log_score=accuracy_score(y_test,y_pred)\n",
        "print(accuracy_score(y_test,y_pred))\n",
        "print(f1_score(y_test,y_pred,average=None,labels=[Sentiment.positive,Sentiment.negative]))\n",
        "\n",
        "\n"
      ],
      "metadata": {
        "colab": {
          "base_uri": "https://localhost:8080/"
        },
        "id": "myaEan8_hh4l",
        "outputId": "e4cf674d-c2c8-4d56-c2cc-9372960f789e"
      },
      "execution_count": 72,
      "outputs": [
        {
          "output_type": "stream",
          "name": "stdout",
          "text": [
            "0.819047619047619\n",
            "[0.81642512 0.82159624]\n"
          ]
        }
      ]
    },
    {
      "cell_type": "code",
      "source": [
        "#we can clearly see that logistic regression best suits for the problem\n",
        "\n",
        "clf_log.predict(vectorizer.transform([\"very bad\",\"awesome\",]))"
      ],
      "metadata": {
        "colab": {
          "base_uri": "https://localhost:8080/"
        },
        "id": "0S3KyuDAic44",
        "outputId": "fd05ba88-7711-4eae-afef-9858f878ff7d"
      },
      "execution_count": 73,
      "outputs": [
        {
          "output_type": "execute_result",
          "data": {
            "text/plain": [
              "array(['NEGATIVE', 'POSITIVE'], dtype='<U8')"
            ]
          },
          "metadata": {},
          "execution_count": 73
        }
      ]
    }
  ]
}